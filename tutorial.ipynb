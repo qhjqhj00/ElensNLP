{
 "cells": [
  {
   "cell_type": "code",
   "execution_count": 1,
   "metadata": {},
   "outputs": [],
   "source": [
    "from utilis.data import *"
   ]
  },
  {
   "cell_type": "code",
   "execution_count": 3,
   "metadata": {},
   "outputs": [
    {
     "data": {
      "text/plain": [
       "Sentence: \"我 爱 北京 天安门\" - 4 Tokens"
      ]
     },
     "execution_count": 3,
     "metadata": {},
     "output_type": "execute_result"
    }
   ],
   "source": [
    "text = '我爱北京天安门'\n",
    "c = Sentence(text,'CN_token')\n",
    "c"
   ]
  },
  {
   "cell_type": "code",
   "execution_count": 4,
   "metadata": {},
   "outputs": [
    {
     "data": {
      "text/plain": [
       "Sentence: \"我 爱 北 京 天 安 门\" - 7 Tokens"
      ]
     },
     "execution_count": 4,
     "metadata": {},
     "output_type": "execute_result"
    }
   ],
   "source": [
    "text = '我爱北京天安门'\n",
    "c = Sentence(text,'CN_char')\n",
    "c"
   ]
  },
  {
   "cell_type": "code",
   "execution_count": 5,
   "metadata": {},
   "outputs": [
    {
     "name": "stdout",
     "output_type": "stream",
     "text": [
      "Sentence: \"我 爱 北 京 天 安 门\" - 7 Tokens\n",
      "wo3 a4i be3i ji1ng tia1n a1n me2n\n"
     ]
    }
   ],
   "source": [
    "text = '我爱北京天安门'\n",
    "c = Sentence(text,'PY')\n",
    "print(c)\n",
    "print(' '.join(t.pinyin for t in c))"
   ]
  },
  {
   "cell_type": "code",
   "execution_count": 6,
   "metadata": {},
   "outputs": [
    {
     "name": "stdout",
     "output_type": "stream",
     "text": [
      "Sentence: \"I love Tiananmen Square which is located in Beijing , the capital of China\" - 14 Tokens\n"
     ]
    }
   ],
   "source": [
    "text = 'I love Tiananmen Square which is located in Beijing, the capital of China'\n",
    "c = Sentence(text,'EN')\n",
    "print(c)"
   ]
  },
  {
   "cell_type": "code",
   "execution_count": null,
   "metadata": {
    "collapsed": false
   },
   "outputs": [
    {
     "name": "stdout",
     "output_type": "stream",
     "text": [
      "Sentence: \"چېن چۈەنگو ئاپتونوم رايوننىڭ دىن ساھەسىدىكى ۋەتەنپەرۋەر زاتلار سۆھبەت يىغىنىدا مۇنداق تەكىتلىدى:\" - 12 Tokens\n",
      "çén çüengo aptonom rayonniñ din sahesidiki wetenperwer zatlar söhbet yiğinida mundaq tekitlidi:\n"
     ]
    }
   ],
   "source": [
    "text = 'چېن چۈەنگو ئاپتونوم رايوننىڭ دىن ساھەسىدىكى ۋەتەنپەرۋەر زاتلار سۆھبەت يىغىنىدا مۇنداق تەكىتلىدى:'\n",
    "c = Sentence(text,'UY')\n",
    "print(c)\n",
    "print(' '.join(t.latin for t in c))"
   ]
  }
 ],
 "metadata": {
  "kernelspec": {
   "display_name": "Python 3",
   "language": "python",
   "name": "python3"
  },
  "language_info": {
   "codemirror_mode": {
    "name": "ipython",
    "version": 3
   },
   "file_extension": ".py",
   "mimetype": "text/x-python",
   "name": "python",
   "nbconvert_exporter": "python",
   "pygments_lexer": "ipython3",
   "version": "3.6.7"
  }
 },
 "nbformat": 4,
 "nbformat_minor": 2
}
