{
 "cells": [
  {
   "cell_type": "code",
   "execution_count": 1,
   "metadata": {},
   "outputs": [],
   "source": [
    "from utilis.data import *"
   ]
  },
  {
   "cell_type": "code",
   "execution_count": 3,
   "metadata": {},
   "outputs": [
    {
     "data": {
      "text/plain": [
       "Sentence: \"我 爱 北京 天安门\" - 4 Tokens"
      ]
     },
     "execution_count": 3,
     "metadata": {},
     "output_type": "execute_result"
    }
   ],
   "source": [
    "text = '我爱北京天安门'\n",
    "c = Sentence(text,'CN_token')\n",
    "c"
   ]
  },
  {
   "cell_type": "code",
   "execution_count": 4,
   "metadata": {},
   "outputs": [
    {
     "data": {
      "text/plain": [
       "Sentence: \"我 爱 北 京 天 安 门\" - 7 Tokens"
      ]
     },
     "execution_count": 4,
     "metadata": {},
     "output_type": "execute_result"
    }
   ],
   "source": [
    "text = '我爱北京天安门'\n",
    "c = Sentence(text,'CN_char')\n",
    "c"
   ]
  },
  {
   "cell_type": "code",
   "execution_count": 6,
   "metadata": {},
   "outputs": [
    {
     "data": {
      "text/plain": [
       "19010"
      ]
     },
     "execution_count": 6,
     "metadata": {},
     "output_type": "execute_result"
    }
   ],
   "source": [
    "[i for i in range(19010,19029)].pop(0)"
   ]
  },
  {
   "cell_type": "code",
   "execution_count": 8,
   "metadata": {},
   "outputs": [],
   "source": [
    "c = [i for i in range(19010,19029)]"
   ]
  },
  {
   "cell_type": "code",
   "execution_count": 9,
   "metadata": {},
   "outputs": [
    {
     "data": {
      "text/plain": [
       "[19010,\n",
       " 19011,\n",
       " 19012,\n",
       " 19013,\n",
       " 19014,\n",
       " 19015,\n",
       " 19016,\n",
       " 19017,\n",
       " 19018,\n",
       " 19019,\n",
       " 19020,\n",
       " 19021,\n",
       " 19022,\n",
       " 19023,\n",
       " 19024,\n",
       " 19025,\n",
       " 19026,\n",
       " 19027,\n",
       " 19028]"
      ]
     },
     "execution_count": 9,
     "metadata": {},
     "output_type": "execute_result"
    }
   ],
   "source": [
    "c"
   ]
  },
  {
   "cell_type": "code",
   "execution_count": 11,
   "metadata": {},
   "outputs": [
    {
     "data": {
      "text/plain": [
       "[19011,\n",
       " 19012,\n",
       " 19013,\n",
       " 19014,\n",
       " 19015,\n",
       " 19016,\n",
       " 19017,\n",
       " 19018,\n",
       " 19019,\n",
       " 19020,\n",
       " 19021,\n",
       " 19022,\n",
       " 19023,\n",
       " 19024,\n",
       " 19025,\n",
       " 19026,\n",
       " 19027,\n",
       " 19028]"
      ]
     },
     "execution_count": 11,
     "metadata": {},
     "output_type": "execute_result"
    }
   ],
   "source": [
    "c"
   ]
  },
  {
   "cell_type": "code",
   "execution_count": 6,
   "metadata": {},
   "outputs": [
    {
     "name": "stdout",
     "output_type": "stream",
     "text": [
      "Sentence: \"I love Tiananmen Square which is located in Beijing , the capital of China\" - 14 Tokens\n"
     ]
    }
   ],
   "source": [
    "text = 'I love Tiananmen Square which is located in Beijing, the capital of China'\n",
    "c = Sentence(text,'EN')\n",
    "print(c)"
   ]
  },
  {
   "cell_type": "code",
   "execution_count": null,
   "metadata": {
    "collapsed": false
   },
   "outputs": [
    {
     "name": "stdout",
     "output_type": "stream",
     "text": [
      "Sentence: \"چېن چۈەنگو ئاپتونوم رايوننىڭ دىن ساھەسىدىكى ۋەتەنپەرۋەر زاتلار سۆھبەت يىغىنىدا مۇنداق تەكىتلىدى:\" - 12 Tokens\n",
      "çén çüengo aptonom rayonniñ din sahesidiki wetenperwer zatlar söhbet yiğinida mundaq tekitlidi:\n"
     ]
    }
   ],
   "source": [
    "text = 'چېن چۈەنگو ئاپتونوم رايوننىڭ دىن ساھەسىدىكى ۋەتەنپەرۋەر زاتلار سۆھبەت يىغىنىدا مۇنداق تەكىتلىدى:'\n",
    "c = Sentence(text,'UY')\n",
    "print(c)\n",
    "print(' '.join(t.latin for t in c))"
   ]
  }
 ],
 "metadata": {
  "kernelspec": {
   "display_name": "Python 3",
   "language": "python",
   "name": "python3"
  },
  "language_info": {
   "codemirror_mode": {
    "name": "ipython",
    "version": 3
   },
   "file_extension": ".py",
   "mimetype": "text/x-python",
   "name": "python",
   "nbconvert_exporter": "python",
   "pygments_lexer": "ipython3",
   "version": "3.6.7"
  }
 },
 "nbformat": 4,
 "nbformat_minor": 2
}
